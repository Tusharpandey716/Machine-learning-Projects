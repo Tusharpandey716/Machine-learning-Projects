{
 "cells": [
  {
   "cell_type": "markdown",
   "metadata": {
    "deletable": false,
    "editable": false,
    "nbgrader": {
     "cell_type": "markdown",
     "checksum": "462e84dce6cc59da8cf692c7afb947fb",
     "grade": false,
     "grade_id": "cell-9e982d5757397d17",
     "locked": true,
     "schema_version": 3,
     "solution": false,
     "task": false
    }
   },
   "source": [
    "## Homework 2 -  Classification\n",
    "***\n",
    "**Name**: $<$insert name here$>$ \n",
    "***\n",
    "\n",
    "Remember that you are encouraged to discuss the problems with your instructors and classmates, but **you must write all code and solutions on your own**."
   ]
  },
  {
   "cell_type": "markdown",
   "metadata": {
    "deletable": false,
    "editable": false,
    "nbgrader": {
     "cell_type": "markdown",
     "checksum": "1b8b5fbebe15adffeb7e4ffb348dd312",
     "grade": false,
     "grade_id": "cell-9c14fe8b7cedca4b",
     "locked": true,
     "schema_version": 3,
     "solution": false,
     "task": false
    }
   },
   "source": [
    "The rules to be followed for the assignment are:\n",
    "\n",
    "- Do **NOT** load additional packages beyond what we've shared in the cells below.\n",
    "- Some problems with code may be autograded.  If we provide a function or class API **do not** change it.\n",
    "- Do not change the location of the data or data directory.  Use only relative paths to access the data."
   ]
  },
  {
   "cell_type": "code",
   "execution_count": 35,
   "metadata": {
    "deletable": false,
    "editable": false,
    "nbgrader": {
     "cell_type": "code",
     "checksum": "01007295310f323658ea09500447eb71",
     "grade": false,
     "grade_id": "cell-45d9e7721034be56",
     "locked": true,
     "schema_version": 3,
     "solution": false,
     "task": false
    }
   },
   "outputs": [],
   "source": [
    "import argparse\n",
    "import pandas as pd\n",
    "import numpy as np\n",
    "import pickle\n",
    "from pathlib import Path\n",
    "from collections import defaultdict"
   ]
  },
  {
   "cell_type": "markdown",
   "metadata": {
    "deletable": false,
    "editable": false,
    "nbgrader": {
     "cell_type": "markdown",
     "checksum": "c5dc56ea000a733dd06e37d48b9a16fd",
     "grade": false,
     "grade_id": "cell-af752c2b34428286",
     "locked": true,
     "schema_version": 3,
     "solution": false,
     "task": false
    }
   },
   "source": [
    "### [10 points] Problem 1 - Building a Decision Tree\n",
    "***\n",
    "\n",
    "A sample dataset has been provided to you in the './data/dataset.csv' path. Here are the attributes for the dataset. Use this dataset to test your functions.\n",
    "\n",
    "- Age - [\"<=30\", \"31-40\", \">40\"]\n",
    "- Income - [\"low\", \"medium\", \"high\"]\n",
    "- Student - [\"no\", \"yes\"]\n",
    "- Credit Rating - [\"fair\", \"excellent\"]\n",
    "- Loan - [\"no\", \"yes\"]\n",
    "\n",
    "Note:\n",
    "- A sample dataset to test your code has been provided in the location \"data/dataset.csv\". Please maintain this as it would be necessary while grading.\n",
    "- Do not change the variable names of the returned values.\n",
    "- After calculating each of those values, assign them to the corresponding value that is being returned.\n",
    "- The \"Loan\" attribute should be used as the target variable while making calculations for your decision tree."
   ]
  },
  {
   "cell_type": "code",
   "execution_count": 48,
   "metadata": {
    "deletable": false,
    "nbgrader": {
     "cell_type": "code",
     "checksum": "a300bd3e85f8415dc5459f67a071a47a",
     "grade": false,
     "grade_id": "cell-61181ec0d8dd26b7",
     "locked": false,
     "schema_version": 3,
     "solution": true,
     "task": false
    }
   },
   "outputs": [],
   "source": [
    "import math\n",
    "import pandas as pd\n",
    "\n",
    "def information_gain_target(dataset_file):\n",
    "    df = pd.read_csv(dataset_file)\n",
    "    \n",
    "    # Calculate the entropy of the entire dataset based on the \"Loan\" attribute\n",
    "    total_instances = len(df)\n",
    "    loan_counts = df['Loan'].value_counts()\n",
    "    entropy_loan = 0\n",
    "    for count in loan_counts:\n",
    "        p = count / total_instances\n",
    "        entropy_loan -= p * math.log2(p)\n",
    "    \n",
    "    # Calculate the weighted average entropy for each attribute (Age, Income, Student, Credit Rating)\n",
    "    attributes = ['Age', 'Income', 'Student', 'Credit Rating']\n",
    "    weighted_entropy = 0\n",
    "    for attribute in attributes:\n",
    "        attribute_values = df[attribute].unique()\n",
    "        entropy_attribute = 0\n",
    "        for value in attribute_values:\n",
    "            subset = df[df[attribute] == value]\n",
    "            subset_instances = len(subset)\n",
    "            subset_loan_counts = subset['Loan'].value_counts()\n",
    "            subset_entropy = 0\n",
    "            for sub_count in subset_loan_counts:\n",
    "                p_sub = sub_count / subset_instances\n",
    "                subset_entropy -= p_sub * math.log2(p_sub)\n",
    "            entropy_attribute += (subset_instances / total_instances) * subset_entropy\n",
    "        \n",
    "        weighted_entropy += entropy_attribute\n",
    "    \n",
    "    # Calculate information gain by subtracting the weighted average entropy from the entropy of the entire dataset\n",
    "    ig_loan = entropy_loan\n",
    "    \n",
    "    return ig_loan\n"
   ]
  },
  {
   "cell_type": "code",
   "execution_count": 50,
   "metadata": {
    "deletable": false,
    "editable": false,
    "nbgrader": {
     "cell_type": "code",
     "checksum": "23b9a132450f65c181780fc36f48e950",
     "grade": false,
     "grade_id": "cell-d6b955b4f57ad228",
     "locked": true,
     "schema_version": 3,
     "solution": false,
     "task": false
    }
   },
   "outputs": [
    {
     "name": "stdout",
     "output_type": "stream",
     "text": [
      "The expected ig_loan value for the given dataset is: 0.9798687566511528\n",
      "Your ig_loan value is: 0.9798687566511528\n",
      "Visible tests passed!\n"
     ]
    }
   ],
   "source": [
    "# This cell has visible test cases that you can run to see if you are on the right track!\n",
    "# Note: hidden tests will also be applied on other datasets for final grading.\n",
    "\n",
    "ig_loan = information_gain_target('./data/dataset.csv')\n",
    "ig_loan_expected = 0.9798687566511528\n",
    "\n",
    "print(f'The expected ig_loan value for the given dataset is: {ig_loan_expected}')\n",
    "print(f'Your ig_loan value is: {ig_loan}')\n",
    "\n",
    "try:\n",
    "    np.testing.assert_allclose(ig_loan, ig_loan_expected, rtol=0.001, atol=0.001)\n",
    "    print(\"Visible tests passed!\")\n",
    "except:\n",
    "    print(\"Visible tests failed!\")"
   ]
  },
  {
   "cell_type": "code",
   "execution_count": 51,
   "metadata": {
    "deletable": false,
    "editable": false,
    "nbgrader": {
     "cell_type": "code",
     "checksum": "4abccde1bb451cbd38c84288ac51b23c",
     "grade": true,
     "grade_id": "cell-831583db0fac12a6",
     "locked": true,
     "points": 5,
     "schema_version": 3,
     "solution": false,
     "task": false
    }
   },
   "outputs": [],
   "source": [
    "\n",
    "# This cell has hidden test cases that will run after you submit your assignment. \n"
   ]
  },
  {
   "cell_type": "code",
   "execution_count": 52,
   "metadata": {
    "deletable": false,
    "nbgrader": {
     "cell_type": "code",
     "checksum": "77bbcd26dcf0274a70d84565e82683c9",
     "grade": false,
     "grade_id": "cell-dbd31d0b008467ae",
     "locked": false,
     "schema_version": 3,
     "solution": true,
     "task": false
    }
   },
   "outputs": [],
   "source": [
    "import math\n",
    "\n",
    "def information_gain(p_count_yes, p_count_no):\n",
    "    # Ensure that there are no division by zero errors\n",
    "    if p_count_yes == 0 or p_count_no == 0:\n",
    "        return 0\n",
    "    \n",
    "    # Calculate the probabilities\n",
    "    total_count = p_count_yes + p_count_no\n",
    "    p_yes = p_count_yes / total_count\n",
    "    p_no = p_count_no / total_count\n",
    "    \n",
    "    # Calculate information gain\n",
    "    ig = -p_yes * math.log2(p_yes) - p_no * math.log2(p_no)\n",
    "    \n",
    "    return ig\n"
   ]
  },
  {
   "cell_type": "code",
   "execution_count": 53,
   "metadata": {
    "deletable": false,
    "nbgrader": {
     "cell_type": "code",
     "checksum": "8fb866ed1914204ffb80493c8289db4a",
     "grade": false,
     "grade_id": "cell-540b05dbe445a68b",
     "locked": false,
     "schema_version": 3,
     "solution": true,
     "task": false
    }
   },
   "outputs": [],
   "source": [
    "set_file)\n",
    "    total_instances = len(df)\n",
    "    \n",
    "    for attribute in attributes:\n",
    "        ig_attribute = 0\n",
    "        import operator\n",
    "import pandas as pd\n",
    "import math\n",
    "\n",
    "attribute_values = {\n",
    "    \"Age\": [\"<=30\", \"31-40\", \">40\"],\n",
    "    \"Income\": [\"low\", \"medium\", \"high\"],\n",
    "    \"Student\": [\"yes\", \"no\"],\n",
    "    \"Credit Rating\": [\"fair\", \"excellent\"]\n",
    "}\n",
    "\n",
    "attributes = [\"Age\", \"Income\", \"Student\", \"Credit Rating\"]\n",
    "\n",
    "def information_gain_attributes(dataset_file, ig_loan, attributes, attribute_values):\n",
    "    results = {\n",
    "        \"ig_attributes\": {\n",
    "            \"Age\": 0,\n",
    "            \"Income\": 0,\n",
    "            \"Student\": 0,\n",
    "            \"Credit Rating\": 0\n",
    "        },\n",
    "        \"best_attribute\": \"\"\n",
    "    }\n",
    "    \n",
    "    df = pd.read_csv(data\n",
    "        for att_value in attribute_values[attribute]:\n",
    "            subset = df[df[attribute] == att_value]\n",
    "            subset_instances = len(subset)\n",
    "            subset_loan_counts = subset['Loan'].value_counts()\n",
    "            subset_entropy = 0\n",
    "            \n",
    "            for count in subset_loan_counts:\n",
    "                p = count / subset_instances\n",
    "                subset_entropy -= p * math.log2(p)\n",
    "            \n",
    "            ig_attribute += (subset_instances / total_instances) * subset_entropy\n",
    "        \n",
    "        results[\"ig_attributes\"][attribute] = ig_loan - ig_attribute\n",
    "    \n",
    "    results[\"best_attribute\"] = max(results[\"ig_attributes\"].items(), key=operator.itemgetter(1))[0]\n",
    "    return results\n"
   ]
  },
  {
   "cell_type": "code",
   "execution_count": 54,
   "metadata": {
    "deletable": false,
    "editable": false,
    "nbgrader": {
     "cell_type": "code",
     "checksum": "00cdfbeec6904a377707474e041584ca",
     "grade": false,
     "grade_id": "cell-6b8ef0a3d2babe32",
     "locked": true,
     "schema_version": 3,
     "solution": false,
     "task": false
    }
   },
   "outputs": [
    {
     "name": "stdout",
     "output_type": "stream",
     "text": [
      "The expected results value for the given dataset is:\n",
      "{'best_attribute': 'Age',\n",
      " 'ig_attributes': {'Age': 0.2419726756283742,\n",
      "                   'Credit Rating': 0.07181901063117269,\n",
      "                   'Income': 0.012398717114751934,\n",
      "                   'Student': 0.19570962879973097}}\n",
      "Your results value is:\n",
      "{'best_attribute': 'Age',\n",
      " 'ig_attributes': {'Age': 0.2419726756283742,\n",
      "                   'Credit Rating': 0.07181901063117269,\n",
      "                   'Income': 0.012398717114751934,\n",
      "                   'Student': 0.19570962879973097}}\n",
      "Visible tests passed!\n"
     ]
    }
   ],
   "source": [
    "# This cell has visible test cases that you can run to see if you are on the right track!\n",
    "# Note: hidden tests will also be applied on other datasets for final grading.\n",
    "\n",
    "import pprint\n",
    "pp = pprint.PrettyPrinter(depth=4)\n",
    "ig_loan_expected = 0.9798687566511528\n",
    "\n",
    "attribute_values = {\n",
    "    \"Age\": [\"<=30\", \"31-40\", \">40\"],\n",
    "    \"Income\": [\"low\", \"medium\", \"high\"],\n",
    "    \"Student\": [\"yes\", \"no\"],\n",
    "    \"Credit Rating\": [\"fair\", \"excellent\"]\n",
    "}\n",
    "\n",
    "attributes = [\"Age\", \"Income\", \"Student\", \"Credit Rating\"]\n",
    "\n",
    "results = information_gain_attributes(\"./data/dataset.csv\", ig_loan_expected, attributes, attribute_values)\n",
    "\n",
    "results_expected = {'ig_attributes': {'Age': 0.2419726756283742, 'Income': 0.012398717114751934, 'Student': 0.19570962879973097, 'Credit Rating': 0.07181901063117269}, 'best_attribute': 'Age'}\n",
    "\n",
    "print(f'The expected results value for the given dataset is:')\n",
    "pp.pprint(results_expected)\n",
    "print(f'Your results value is:')\n",
    "pp.pprint(results)\n",
    "\n",
    "try:\n",
    "    x = pd.Series(results[\"ig_attributes\"])\n",
    "    y = pd.Series(results_expected[\"ig_attributes\"])\n",
    "    pd.testing.assert_series_equal(x, y, check_less_precise=3)\n",
    "    assert results[\"best_attribute\"] == results_expected[\"best_attribute\"]\n",
    "    print(\"Visible tests passed!\")\n",
    "except:\n",
    "    print(\"Visible tests failed!\")"
   ]
  },
  {
   "cell_type": "code",
   "execution_count": 55,
   "metadata": {
    "deletable": false,
    "editable": false,
    "nbgrader": {
     "cell_type": "code",
     "checksum": "e22399a14e54fc2a36a46cce5fb475e5",
     "grade": true,
     "grade_id": "cell-dd2742d4c14f088e",
     "locked": true,
     "points": 5,
     "schema_version": 3,
     "solution": false,
     "task": false
    }
   },
   "outputs": [],
   "source": [
    "\n",
    "# This cell has hidden test cases that will run after you submit your assignment. \n"
   ]
  },
  {
   "cell_type": "markdown",
   "metadata": {
    "deletable": false,
    "editable": false,
    "nbgrader": {
     "cell_type": "markdown",
     "checksum": "37c9c814aef3c2a4651202ceab883888",
     "grade": false,
     "grade_id": "cell-d02bc39e9c144563",
     "locked": true,
     "schema_version": 3,
     "solution": false,
     "task": false
    }
   },
   "source": [
    "### [10 points] Problem 2 - Building a Naive Bayes Classifier\n",
    "***\n",
    "\n",
    "A sample dataset has been provided to you in the './data/dataset.csv' path. Here are the attributes for the dataset. Use this dataset to test your functions.\n",
    "\n",
    "- Age - [\"<=30\", \"31-40\", \">40\"]\n",
    "- Income - [\"low\", \"medium\", \"high\"]\n",
    "- Student - [\"no\", \"yes\"]\n",
    "- Credit Rating - [\"fair\", \"excellent\"]\n",
    "- Loan - [\"no\", \"yes\"]\n",
    "\n",
    "Note:\n",
    "- A sample dataset to test your code has been provided in the location \"data/dataset.csv\". Please maintain this as it would be necessary while grading.\n",
    "- Do not change the variable names of the returned values.\n",
    "- After calculating each of those values, assign them to the corresponding value that is being returned.\n",
    "- The \"Loan\" attribute should be used as the target variable while making calculations for your naive bayes classifier."
   ]
  },
  {
   "cell_type": "code",
   "execution_count": 56,
   "metadata": {
    "deletable": false,
    "nbgrader": {
     "cell_type": "code",
     "checksum": "d97b494935c0320f275b19a7d90543c4",
     "grade": false,
     "grade_id": "cell-0d7104243d876943",
     "locked": false,
     "schema_version": 3,
     "solution": true,
     "task": false
    }
   },
   "outputs": [],
   "source": [
    "from collections import defaultdict\n",
    "import pandas as pd\n",
    "\n",
    "def naive_bayes(dataset_file, attributes, attribute_values):\n",
    "    probabilities = {\n",
    "        \"Age\": {\"<=30\": {\"yes\": 0, \"no\": 0}, \"31-40\": {\"yes\": 0, \"no\": 0}, \">40\": {\"yes\": 0, \"no\": 0}},\n",
    "        \"Income\": {\"low\": {\"yes\": 0, \"no\": 0}, \"medium\": {\"yes\": 0, \"no\": 0}, \"high\": {\"yes\": 0, \"no\": 0}},\n",
    "        \"Student\": {\"yes\": {\"yes\": 0, \"no\": 0}, \"no\": {\"yes\": 0, \"no\": 0}},\n",
    "        \"Credit Rating\": {\"fair\": {\"yes\": 0, \"no\": 0}, \"excellent\": {\"yes\": 0, \"no\": 0}},\n",
    "        \"Loan\": {\"yes\": 0, \"no\": 0}\n",
    "    }\n",
    "    \n",
    "    df = pd.read_csv(dataset_file)\n",
    "    total_instances = len(df)\n",
    "    \n",
    "    loan_counts = df[\"Loan\"].value_counts()\n",
    "    probabilities[\"Loan\"][\"yes\"] = loan_counts.get(\"yes\", 0) / total_instances\n",
    "    probabilities[\"Loan\"][\"no\"] = loan_counts.get(\"no\", 0) / total_instances\n",
    "    \n",
    "    for attribute in attributes:\n",
    "        for att_value in attribute_values[attribute]:\n",
    "            # Count the occurrences of the attribute value for \"yes\" and \"no\" outcomes\n",
    "            att_value_counts = df[df[attribute] == att_value][\"Loan\"].value_counts()\n",
    "            \n",
    "            # Update the probabilities dictionary with the counts\n",
    "            probabilities[attribute][att_value][\"yes\"] = att_value_counts.get(\"yes\", 0) / loan_counts.get(\"yes\", 1)\n",
    "            probabilities[attribute][att_value][\"no\"] = att_value_counts.get(\"no\", 0) / loan_counts.get(\"no\", 1)\n",
    "    \n",
    "    return probabilities\n"
   ]
  },
  {
   "cell_type": "code",
   "execution_count": 57,
   "metadata": {
    "deletable": false,
    "editable": false,
    "nbgrader": {
     "cell_type": "code",
     "checksum": "ba399419430aa3deb36318a7d7736edc",
     "grade": false,
     "grade_id": "cell-3214cac202f3d1d3",
     "locked": true,
     "schema_version": 3,
     "solution": false,
     "task": false
    }
   },
   "outputs": [
    {
     "name": "stdout",
     "output_type": "stream",
     "text": [
      "Your probabilities value is:\n",
      "{'Age': {'31-40': {'no': 0.0, 'yes': 0.42857142857142855},\n",
      "         '<=30': {'no': 0.6, 'yes': 0.2857142857142857},\n",
      "         '>40': {'no': 0.4, 'yes': 0.2857142857142857}},\n",
      " 'Credit Rating': {'excellent': {'no': 0.6, 'yes': 0.2857142857142857},\n",
      "                   'fair': {'no': 0.4, 'yes': 0.7142857142857143}},\n",
      " 'Income': {'high': {'no': 0.4, 'yes': 0.2857142857142857},\n",
      "            'low': {'no': 0.2, 'yes': 0.2857142857142857},\n",
      "            'medium': {'no': 0.4, 'yes': 0.42857142857142855}},\n",
      " 'Loan': {'no': 0.4166666666666667, 'yes': 0.5833333333333334},\n",
      " 'Student': {'no': {'no': 0.8, 'yes': 0.2857142857142857},\n",
      "             'yes': {'no': 0.2, 'yes': 0.7142857142857143}}}\n",
      "\n",
      "The expected probabilities value for the given dataset is:\n",
      "{'Age': {'31-40': {'no': 0.0, 'yes': 0.42857142857142855},\n",
      "         '<=30': {'no': 0.6, 'yes': 0.2857142857142857},\n",
      "         '>40': {'no': 0.4, 'yes': 0.2857142857142857}},\n",
      " 'Credit Rating': {'excellent': {'no': 0.6, 'yes': 0.2857142857142857},\n",
      "                   'fair': {'no': 0.4, 'yes': 0.7142857142857143}},\n",
      " 'Income': {'high': {'no': 0.4, 'yes': 0.2857142857142857},\n",
      "            'low': {'no': 0.2, 'yes': 0.2857142857142857},\n",
      "            'medium': {'no': 0.4, 'yes': 0.42857142857142855}},\n",
      " 'Loan': {'no': 0.4166666666666667, 'yes': 0.5833333333333334},\n",
      " 'Student': {'no': {'no': 0.8, 'yes': 0.2857142857142857},\n",
      "             'yes': {'no': 0.2, 'yes': 0.7142857142857143}}}\n",
      "Visible tests passed!\n"
     ]
    }
   ],
   "source": [
    "# This cell has visible test cases that you can run to see if you are on the right track!\n",
    "# Note: hidden tests will also be applied on other datasets for final grading.\n",
    "\n",
    "import pprint\n",
    "pp = pprint.PrettyPrinter(depth=6)\n",
    "\n",
    "attribute_values = {\n",
    "    \"Age\": [\"<=30\", \"31-40\", \">40\"],\n",
    "    \"Income\": [\"low\", \"medium\", \"high\"],\n",
    "    \"Student\": [\"yes\", \"no\"],\n",
    "    \"Credit Rating\": [\"fair\", \"excellent\"]\n",
    "}\n",
    "\n",
    "attributes = [\"Age\", \"Income\", \"Student\", \"Credit Rating\"]\n",
    "\n",
    "probabilities = naive_bayes(\"./data/dataset.csv\", attributes, attribute_values)\n",
    "\n",
    "probabilities_expected = {'Age': {'<=30': {'yes': 0.2857142857142857, 'no': 0.6},\n",
    "  '31-40': {'yes': 0.42857142857142855, 'no': 0.0},\n",
    "  '>40': {'yes': 0.2857142857142857, 'no': 0.4}},\n",
    " 'Income': {'low': {'yes': 0.2857142857142857, 'no': 0.2},\n",
    "  'medium': {'yes': 0.42857142857142855, 'no': 0.4},\n",
    "  'high': {'yes': 0.2857142857142857, 'no': 0.4}},\n",
    " 'Student': {'yes': {'yes': 0.7142857142857143, 'no': 0.2},\n",
    "  'no': {'yes': 0.2857142857142857, 'no': 0.8}},\n",
    " 'Credit Rating': {'fair': {'yes': 0.7142857142857143, 'no': 0.4},\n",
    "  'excellent': {'yes': 0.2857142857142857, 'no': 0.6}},\n",
    " 'Loan': {'yes': 0.5833333333333334, 'no': 0.4166666666666667}}\n",
    "\n",
    "print(f'Your probabilities value is:')\n",
    "pp.pprint(probabilities)\n",
    "print(f'\\nThe expected probabilities value for the given dataset is:')\n",
    "pp.pprint(probabilities_expected)\n",
    "\n",
    "try:\n",
    "    for i in attributes:\n",
    "        for j in attribute_values[i]:\n",
    "            for k in [\"yes\", \"no\"]:\n",
    "                np.testing.assert_allclose(probabilities[i][j][k], probabilities_expected[i][j][k], rtol=0.001, atol=0.001)\n",
    "    print(\"Visible tests passed!\")\n",
    "except:\n",
    "    print(\"Visible tests failed!\")"
   ]
  },
  {
   "cell_type": "code",
   "execution_count": 58,
   "metadata": {
    "deletable": false,
    "editable": false,
    "nbgrader": {
     "cell_type": "code",
     "checksum": "c65d272ca5920fc09bf99a8c9b9d9ff4",
     "grade": true,
     "grade_id": "cell-1029d20562b90189",
     "locked": true,
     "points": 10,
     "schema_version": 3,
     "solution": false,
     "task": false
    }
   },
   "outputs": [],
   "source": [
    "\n",
    "# This cell has hidden test cases that will run after you submit your assignment. \n"
   ]
  },
  {
   "cell_type": "code",
   "execution_count": null,
   "metadata": {},
   "outputs": [],
   "source": []
  }
 ],
 "metadata": {
  "kernelspec": {
   "display_name": "Python 3",
   "language": "python",
   "name": "python3"
  },
  "language_info": {
   "codemirror_mode": {
    "name": "ipython",
    "version": 3
   },
   "file_extension": ".py",
   "mimetype": "text/x-python",
   "name": "python",
   "nbconvert_exporter": "python",
   "pygments_lexer": "ipython3",
   "version": "3.7.6"
  }
 },
 "nbformat": 4,
 "nbformat_minor": 5
}
